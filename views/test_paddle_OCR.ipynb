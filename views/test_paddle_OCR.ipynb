{
 "cells": [
  {
   "cell_type": "code",
   "execution_count": 18,
   "metadata": {},
   "outputs": [
    {
     "name": "stdout",
     "output_type": "stream",
     "text": [
      "C:\\Users\\prude\\SynologyDrive\\vscode\\dataset_img\\bike\\bike_numberplate_corner_job1\\obj_train_data\\train\\93385.jpg\n",
      "[2024/06/30 11:01:30] ppocr DEBUG: Namespace(alpha=1.0, alphacolor=(255, 255, 255), benchmark=False, beta=1.0, binarize=False, cls_batch_num=6, cls_image_shape='3, 48, 192', cls_model_dir='C:\\\\Users\\\\prude/.paddleocr/whl\\\\cls\\\\ch_ppocr_mobile_v2.0_cls_infer', cls_thresh=0.9, cpu_threads=10, crop_res_save_dir='./output', det=True, det_algorithm='DB', det_box_type='quad', det_db_box_thresh=0.6, det_db_score_mode='fast', det_db_thresh=0.3, det_db_unclip_ratio=1.5, det_east_cover_thresh=0.1, det_east_nms_thresh=0.2, det_east_score_thresh=0.8, det_limit_side_len=960, det_limit_type='max', det_model_dir='C:\\\\Users\\\\prude/.paddleocr/whl\\\\det\\\\ml\\\\Multilingual_PP-OCRv3_det_infer', det_pse_box_thresh=0.85, det_pse_min_area=16, det_pse_scale=1, det_pse_thresh=0, det_sast_nms_thresh=0.2, det_sast_score_thresh=0.5, draw_img_save_dir='./inference_results', drop_score=0.5, e2e_algorithm='PGNet', e2e_char_dict_path='./ppocr/utils/ic15_dict.txt', e2e_limit_side_len=768, e2e_limit_type='max', e2e_model_dir=None, e2e_pgnet_mode='fast', e2e_pgnet_score_thresh=0.5, e2e_pgnet_valid_set='totaltext', enable_mkldnn=False, fourier_degree=5, gpu_id=0, gpu_mem=500, help='==SUPPRESS==', image_dir=None, image_orientation=False, invert=False, ir_optim=True, kie_algorithm='LayoutXLM', label_list=['0', '180'], lang='korean', layout=True, layout_dict_path=None, layout_model_dir=None, layout_nms_threshold=0.5, layout_score_threshold=0.5, max_batch_size=10, max_text_length=25, merge_no_span_structure=True, min_subgraph_size=15, mode='structure', ocr=True, ocr_order_method=None, ocr_version='PP-OCRv4', output='./output', page_num=0, precision='fp32', process_id=0, re_model_dir=None, rec=True, rec_algorithm='SVTR_LCNet', rec_batch_num=6, rec_char_dict_path='c:\\\\Users\\\\prude\\\\anaconda3\\\\envs\\\\pol\\\\lib\\\\site-packages\\\\paddleocr\\\\ppocr\\\\utils\\\\dict\\\\korean_dict.txt', rec_image_inverse=True, rec_image_shape='3, 48, 320', rec_model_dir='C:\\\\Users\\\\prude/.paddleocr/whl\\\\rec\\\\korean\\\\korean_PP-OCRv4_rec_infer', recovery=False, save_crop_res=False, save_log_path='./log_output/', scales=[8, 16, 32], ser_dict_path='../train_data/XFUND/class_list_xfun.txt', ser_model_dir=None, show_log=True, sr_batch_num=1, sr_image_shape='3, 32, 128', sr_model_dir=None, structure_version='PP-StructureV2', table=True, table_algorithm='TableAttn', table_char_dict_path=None, table_max_len=488, table_model_dir=None, total_process_num=1, type='ocr', use_angle_cls=True, use_dilation=False, use_gpu=False, use_mp=False, use_npu=False, use_onnx=False, use_pdf2docx_api=False, use_pdserving=False, use_space_char=True, use_tensorrt=False, use_visual_backbone=True, use_xpu=False, vis_font_path='./doc/fonts/simfang.ttf', warmup=False)\n",
      "[2024/06/30 11:01:32] ppocr DEBUG: dt_boxes num : 3, elapsed : 0.19304490089416504\n",
      "[2024/06/30 11:01:32] ppocr DEBUG: cls num  : 3, elapsed : 0.008002042770385742\n",
      "[2024/06/30 11:01:32] ppocr DEBUG: rec_res num  : 3, elapsed : 0.05901384353637695\n",
      "[[[181.0, 77.0], [480.0, 67.0], [483.0, 178.0], [185.0, 188.0]], ('모[문', 0.9079369902610779)]\n",
      "[[[143.0, 212.0], [578.0, 216.0], [576.0, 413.0], [141.0, 409.0]], ('0204', 0.9994583129882812)]\n",
      "[[[92.0, 273.0], [208.0, 269.0], [211.0, 375.0], [96.0, 379.0]], ('}|', 0.6622805595397949)]\n"
     ]
    }
   ],
   "source": [
    "from paddleocr import PaddleOCR    \n",
    "import cv2\n",
    "import os \n",
    "import numpy as np\n",
    "import random, pyperclip\n",
    "# Paddleocr supports Chinese, English, French, German, Korean and Japanese.\n",
    "# You can set the parameter `lang` as `ch`, `en`, `fr`, `german`, `korean`, `japan`\n",
    "# to switch the language model in order.\n",
    "file_path = pyperclip.paste()\n",
    "print(file_path)\n",
    "# file_path 복사 붙여 넣기 하기 위해서 복사하기\n",
    "# pyautogui를 이용해서 file_path 복사하기\n",
    "\n",
    "paddle_ocr = PaddleOCR(use_angle_cls=True, lang='korean') # need to run only once to download and load model into memory\\\n",
    "img = cv2.imread(file_path)\n",
    "result_paddle = paddle_ocr.ocr(file_path, cls=True)\n",
    "\n",
    "for idx in range(len(result_paddle)):\n",
    "    res = result_paddle[idx]\n",
    "    for line in res:\n",
    "        print(line)\n"
   ]
  },
  {
   "cell_type": "code",
   "execution_count": null,
   "metadata": {},
   "outputs": [],
   "source": []
  }
 ],
 "metadata": {
  "kernelspec": {
   "display_name": "django",
   "language": "python",
   "name": "python3"
  },
  "language_info": {
   "codemirror_mode": {
    "name": "ipython",
    "version": 3
   },
   "file_extension": ".py",
   "mimetype": "text/x-python",
   "name": "python",
   "nbconvert_exporter": "python",
   "pygments_lexer": "ipython3",
   "version": "3.8.19"
  }
 },
 "nbformat": 4,
 "nbformat_minor": 2
}
