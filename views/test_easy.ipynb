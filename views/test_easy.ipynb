{
 "cells": [
  {
   "cell_type": "code",
   "execution_count": 15,
   "metadata": {},
   "outputs": [
    {
     "name": "stderr",
     "output_type": "stream",
     "text": [
      "Using CPU. Note: This module is much faster with a GPU.\n"
     ]
    },
    {
     "name": "stdout",
     "output_type": "stream",
     "text": [
      "file_path = r\"C:\\Users\\prude\\SynologyDrive\\vscode\\dataset_img\\bike\\bike_numberplate_corner_job1\\obj_train_data\\train\\numplate_202414_29320.jpg\"\n",
      "C:\\Users\\prude\\SynologyDrive\\vscode\\dataset_img\\bike\\bike_numberplate_corner_job1\\obj_train_data\\train\\numplate_202414_29320.jpg\n",
      "easy_ocr: ['인진 부명', '마', '3812']\n"
     ]
    }
   ],
   "source": [
    "import glob, random, cv2\n",
    "import easyocr \n",
    "import pyperclip\n",
    "\n",
    "# 이미지를 OCR을 이용해서 번호판을 찾는 함수\n",
    "def easy_ocr(img):\n",
    "    reader = easyocr.Reader(['ko'], gpu=False)\n",
    "    # OCR을 이용해서 번호판 찾기\n",
    "    result = reader.readtext(img, detail=0)\n",
    "    # ocr 텍스트 읽기\n",
    "    text = result\n",
    "    print(f'easy_ocr: {text}')\n",
    "\n",
    "\n",
    "ocr = 'easy'\n",
    "# ocr = 'paddle'\n",
    "file_path = r'C:\\Users\\prude\\SynologyDrive\\vscode\\dataset_img\\bike\\bike_numberplate_corner_job1\\obj_train_data\\train\\*.jpg'\n",
    "# r'C:\\Users\\prude\\SynologyDrive\\vscode\\dataset_img\\bike\\moto_v1' 경로의 파일을 모두 불러오기\n",
    "img_files = glob.glob(file_path)\n",
    "file_path = random.choice(img_files)\n",
    "pyperclip.copy(file_path)\n",
    "# file_path = r'C:\\Users\\prude\\SynologyDrive\\vscode\\dataset_img\\bike\\moto_v1\\20240122_154218.jpg'\n",
    "\n",
    "img = cv2.imread(file_path)\n",
    "print(f'file_path = r\"{file_path}\"')\n",
    "print(file_path)\n",
    "easy_ocr(img)\n",
    "cv2.imshow('img', img)\n",
    "cv2.waitKey(10000)\n",
    "cv2.destroyAllWindows()"
   ]
  }
 ],
 "metadata": {
  "kernelspec": {
   "display_name": "pol",
   "language": "python",
   "name": "python3"
  },
  "language_info": {
   "codemirror_mode": {
    "name": "ipython",
    "version": 3
   },
   "file_extension": ".py",
   "mimetype": "text/x-python",
   "name": "python",
   "nbconvert_exporter": "python",
   "pygments_lexer": "ipython3",
   "version": "3.8.19"
  }
 },
 "nbformat": 4,
 "nbformat_minor": 2
}
